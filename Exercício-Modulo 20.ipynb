{
 "cells": [
  {
   "cell_type": "markdown",
   "id": "3d8d65b9",
   "metadata": {},
   "source": [
    "### <h1><p style=\"color:#C3BEF7\">Fórmula de Bhaskara</p><h1> "
   ]
  },
  {
   "cell_type": "markdown",
   "id": "e961b3bd",
   "metadata": {},
   "source": [
    "A solução para uma função de segundo grau depende das suas raízes (valores de x). Como já vimos, os coeficientes precisam ser números reais e o angular diferente de zero. Sendo assim, temos a seguinte fórmula de Bhaskara:"
   ]
  },
  {
   "attachments": {
    "formula-bhaskara-matematica.webp": {
     "image/webp": "[encoded data removed]"
    }
   },
   "cell_type": "markdown",
   "id": "6400dca6",
   "metadata": {},
   "source": [
    "![formula-bhaskara-matematica.webp](attachment:formula-bhaskara-matematica.webp) "
   ]
  },
  {
   "cell_type": "markdown",
   "id": "39341ecf",
   "metadata": {},
   "source": [
    "Para melhor compreensão o seu cálculo é dividido em duas partes: discriminante da equação e operações para determinar as raízes."
   ]
  },
  {
   "cell_type": "markdown",
   "id": "af94eaca",
   "metadata": {},
   "source": [
    "<h3><p style=\"color:#C3BEF7\">Discriminante</p></h3>"
   ]
  },
  {
   "cell_type": "markdown",
   "id": "aeb7a577",
   "metadata": {},
   "source": [
    "A figura dentro da raiz na fórmula de Bhaskara é nomeada de discriminante. Seu símbolo é a letra grega delta e apresenta a determinada fórmula:"
   ]
  },
  {
   "attachments": {
    "formula-discriminante-bhaskara-matematica.webp": {
     "image/webp": "[encoded data removed]"
    }
   },
   "cell_type": "markdown",
   "id": "b9afcd85",
   "metadata": {},
   "source": [
    "![formula-discriminante-bhaskara-matematica.webp](attachment:formula-discriminante-bhaskara-matematica.webp)"
   ]
  },
  {
   "cell_type": "markdown",
   "id": "c26715f2",
   "metadata": {},
   "source": [
    "- Se o delta for maior que zero, a equação terá dois valores reais e distintos\n",
    "- Se o delta for igual a zero, a equação terá somente um valor real ou dois resultados iguais. \n",
    "- Se o delta for menor que zero, a equação não possuirá valores reais. "
   ]
  },
  {
   "cell_type": "markdown",
   "id": "809306e8",
   "metadata": {},
   "source": [
    "Portanto, é fundamental o valor de delta para definir as raízes de uma função do segundo grau. Substituindo o discriminante e os coeficientes, a fórmula de Bhaskara ficará dessa forma:"
   ]
  },
  {
   "attachments": {
    "formula-bhaskara-sinal-matematica.webp": {
     "image/webp": "[encoded data removed]"
    }
   },
   "cell_type": "markdown",
   "id": "39affebb",
   "metadata": {},
   "source": [
    "![formula-bhaskara-sinal-matematica.webp](attachment:formula-bhaskara-sinal-matematica.webp)"
   ]
  }
 ],
 "metadata": {
  "kernelspec": {
   "display_name": "Python 3 (ipykernel)",
   "language": "python",
   "name": "python3"
  },
  "language_info": {
   "codemirror_mode": {
    "name": "ipython",
    "version": 3
   },
   "file_extension": ".py",
   "mimetype": "text/x-python",
   "name": "python",
   "nbconvert_exporter": "python",
   "pygments_lexer": "ipython3",
   "version": "3.9.13"
  }
 },
 "nbformat": 4,
 "nbformat_minor": 5
}
